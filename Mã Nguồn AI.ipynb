{
  "cells": [
    {
      "attachments": {},
      "cell_type": "markdown",
      "metadata": {
        "id": "9rU26w86eP07"
      },
      "source": [
        "## Code cài đặt thuật toán:"
      ]
    },
    {
      "cell_type": "code",
      "execution_count": 3,
      "metadata": {
        "id": "uYkb38_69m9a"
      },
      "outputs": [],
      "source": [
        "class Item:\n",
        "    def __init__(self, name, value, weight):\n",
        "        self.name = name\n",
        "        self.value = value\n",
        "        self.weight = weight\n",
        "    \n",
        "    def __str__(self):\n",
        "        return f'{self.name} - V:{self.value}, W:{self.weight}'\n",
        "\n",
        "class Knapsack:\n",
        "    def __init__(self, max_weight):\n",
        "        self.max_weight = max_weight\n",
        "        self.items = []\n",
        "        self.total_value = 0\n",
        "        self.total_weight = 0\n",
        "    \n",
        "    def add_item(self, item):\n",
        "        if item.weight + self.total_weight <= self.max_weight:\n",
        "            self.items.append(item)\n",
        "            self.total_value += item.value\n",
        "            self.total_weight += item.weight\n",
        "            \n",
        "    def __str__(self):\n",
        "        items_str = '\\n'.join([f'   - {item}' for item in self.items])\n",
        "        return f'Total Value: {self.total_value}\\nTotal Weight: {self.total_weight}\\nItems:\\n{items_str}'\n",
        "\n",
        "class GBFS:\n",
        "    def __init__(self, items, max_weight):\n",
        "        self.knapsack = Knapsack(max_weight)\n",
        "        self.remaining_items = sorted(items, key=lambda x:x.value / x.weight, reverse=True)\n",
        "        \n",
        "    def search(self):\n",
        "        while len(self.remaining_items) > 0:\n",
        "            next_item = self.remaining_items[0]\n",
        "            if next_item.weight <= self.knapsack.max_weight - self.knapsack.total_weight:\n",
        "                self.knapsack.add_item(next_item)\n",
        "                self.remaining_items.remove(next_item)\n",
        "            else:\n",
        "                break\n",
        "        return self.knapsack"
      ]
    },
    {
      "attachments": {},
      "cell_type": "markdown",
      "metadata": {
        "id": "DnOaOX18eblO"
      },
      "source": [
        "## Code tạo danh sách vật phẩm tình huống 1 và hiển thị kết quả"
      ]
    },
    {
      "cell_type": "code",
      "execution_count": 7,
      "metadata": {
        "colab": {
          "base_uri": "https://localhost:8080/"
        },
        "id": "SHOcGMjhekm2",
        "outputId": "875575af-a01f-450b-a335-59094584ac51"
      },
      "outputs": [
        {
          "name": "stdout",
          "output_type": "stream",
          "text": [
            "Kết quả trường hợp 1:\n",
            "Total Value: 114\n",
            "Total Weight: 15\n",
            "Items:\n",
            "   - C - V:40, W:4\n",
            "   - D - V:24, W:3\n",
            "   - B - V:50, W:8 \n",
            "\n",
            "Kết quả trường hợp 2:\n",
            "Total Value: 89\n",
            "Total Weight: 11\n",
            "Items:\n",
            "   - C - V:40, W:4\n",
            "   - D - V:24, W:3\n",
            "   - F - V:25, W:4\n"
          ]
        }
      ],
      "source": [
        "# Trọng lượng tối đa\n",
        "max_weight = 15\n",
        "# Tạo danh sách các vật phẩm trường hợp 1\n",
        "items = [Item('A', 60, 10),  Item('B', 50, 8),  Item('C', 40, 4), Item('D', 24, 3), Item('E', 10, 5),  Item('F', 25, 4)]\n",
        "# In kết quả trường hợp 1\n",
        "print('Kết quả trường hợp 1:')\n",
        "gbfs = GBFS(items, max_weight)\n",
        "result = gbfs.search()\n",
        "print(result, '\\n')\n",
        "\n",
        "# Tạo danh sách các vật phẩm trường hợp 2\n",
        "items = [Item('A', 60, 10), Item('F', 25, 4), Item('B', 50, 8), Item('C', 40, 4), Item('D', 24, 3), Item('E', 10, 5)]\n",
        "# In kết quả trường hợp 2\n",
        "print('Kết quả trường hợp 2:')\n",
        "gbfs = GBFS(items, max_weight)\n",
        "result = gbfs.search()\n",
        "print(result)"
      ]
    },
    {
      "attachments": {},
      "cell_type": "markdown",
      "metadata": {
        "id": "g7zWrVbSgUEj"
      },
      "source": [
        "## Code tạo danh sách vật phẩm tình huống 2 và in kết quả:"
      ]
    },
    {
      "cell_type": "code",
      "execution_count": null,
      "metadata": {
        "colab": {
          "base_uri": "https://localhost:8080/",
          "height": 524
        },
        "id": "bymcAuZbMdiD",
        "outputId": "93485e92-0502-408d-e1ff-9f2ae0265154"
      },
      "outputs": [
        {
          "name": "stdout",
          "output_type": "stream",
          "text": [
            "average time of best case= 0.0002033710479736328\n",
            "average time of average case= 0.00024008750915527344\n",
            "average time of worst case= 0.00029653310775756836\n"
          ]
        },
        {
          "data": {
            "image/png": "[encoded data removed]",
            "text/plain": [
              "<Figure size 640x480 with 1 Axes>"
            ]
          },
          "metadata": {},
          "output_type": "display_data"
        }
      ],
      "source": [
        "import matplotlib.pyplot as plt\n",
        "import time\n",
        "import random\n",
        "\n",
        "# Tạo list chứa số lượng phần tử tăng dần từ 10 đến 1000\n",
        "n_list = [100, 100, 500, 1000]\n",
        "\n",
        "# Tạo list chứa thời gian thực thi của 3 trường hợp khác nhau\n",
        "best_case_time = []\n",
        "average_case_time = []\n",
        "worst_case_time = []\n",
        "class Item:\n",
        "    def __init__(self, weight, value):\n",
        "        self.weight = weight\n",
        "        self.value = value\n",
        "\n",
        "def generate_items(num_items, value_range, weight_range):\n",
        "    items = [(random.randint(1, value_range), random.randint(1, weight_range)) for i in range(num_items)]\n",
        "    return [Item(weight=item[0], value=item[1]) for item in items]\n",
        "\n",
        "\n",
        "# Tính thời gian thực thi cho từng trường hợp\n",
        "for n in n_list:\n",
        "    # Tạo danh sách gồm n vật phẩm ngẫu nhiên với giá trị từ 1 đến 20 và trọng lượng cũng từ 1 đến 20\n",
        "    items = generate_items(n, 20, 20)\n",
        "    # Tạo trọng lượng tối đa là 200\n",
        "    max_weight = 200\n",
        "    # Tạo danh sách được sắp xếp giảm dần cho trường hợp trung bình\n",
        "    items_best=sorted(items, key=lambda x: x.value / x.weight, reverse=True)\n",
        "\n",
        "    # Tạo danh sách được sắp xếp ngẫu nhiên cho trường hợp trung bình\n",
        "    items_average = items\n",
        "\n",
        "    # Tạo danh sách 1000 vật phẩm với giá trị thấp và trọng lượng nặng\n",
        "    items_worst=sorted(items, key=lambda x: x.value / x.weight, reverse=False)\n",
        "\n",
        "    # Code thuật toán cho trường hợp tốt nhất ở đây\n",
        "    start = time.time()\n",
        "    gbfs1=GBFS(items_best, max_weight)\n",
        "    gbfs1.search()\n",
        "    end = time.time()\n",
        "    best_case_time.append(end - start)\n",
        "    \n",
        "    # Tính thời gian cho trường hợp trung bình\n",
        "    start2 = time.time()\n",
        "    gbfs2=GBFS(items_average, max_weight)\n",
        "    gbfs2.search()\n",
        "    end2 = time.time()\n",
        "    average_case_time.append(end2 - start2)\n",
        "    \n",
        "    # Tính thời gian cho trường hợp xấu nhất\n",
        "    start3 = time.time()\n",
        "    gbfs3=GBFS(items_worst, max_weight)\n",
        "    gbfs3.search()\n",
        "    end3 = time.time()\n",
        "    worst_case_time.append(end3 - start3)\n",
        "\n",
        "print('average time of best case=', sum(best_case_time)/len(best_case_time))\n",
        "print('average time of average case=', sum(average_case_time)/len(average_case_time))\n",
        "print('average time of worst case=', sum(worst_case_time)/len(worst_case_time))\n",
        "# Vẽ biểu đồ đường so sánh thời gian thực thi của các trường hợp khác nhau\n",
        "plt.plot(n_list, best_case_time, label='Best Case')\n",
        "plt.plot(n_list, average_case_time, label='Average Case')\n",
        "plt.plot(n_list, worst_case_time, label='Worst Case')\n",
        "plt.xlabel('Number of Elements')\n",
        "plt.ylabel('Time (s)')\n",
        "plt.title('Comparison of Algorithm Complexity')\n",
        "plt.legend()\n",
        "plt.show()"
      ]
    },
    {
      "attachments": {},
      "cell_type": "markdown",
      "metadata": {
        "id": "yzFOuAjKgOpa"
      },
      "source": [
        "## Code tạo giao diện cho bài toán:"
      ]
    },
    {
      "cell_type": "code",
      "execution_count": null,
      "metadata": {
        "id": "MYE1vLg_UTR8"
      },
      "outputs": [],
      "source": [
        "import tkinter as tk\n",
        "from tkinter import messagebox\n",
        "from typing import List\n",
        "\n",
        "\n",
        "class KnapsackGUI(tk.Frame):\n",
        "    def __init__(self, master=None):\n",
        "        super().__init__(master)\n",
        "        self.master = master\n",
        "        self.master.title(\"Knapsack Problem\")\n",
        "        \n",
        "        # create UI elements\n",
        "        self.max_weight_label = tk.Label(self.master, text=\"Max Weight:\")\n",
        "        self.max_weight_entry = tk.Entry(self.master, width=10)\n",
        "        \n",
        "        self.item_frame = tk.Frame(self.master)\n",
        "        self.item_name_label = tk.Label(self.item_frame, text=\"Name:\")\n",
        "        self.item_name_entry = tk.Entry(self.item_frame, width=10)\n",
        "        self.item_value_label = tk.Label(self.item_frame, text=\"Value:\")\n",
        "        self.item_value_entry = tk.Entry(self.item_frame, width=10)\n",
        "        self.item_weight_label = tk.Label(self.item_frame, text=\"Weight:\")\n",
        "        self.item_weight_entry = tk.Entry(self.item_frame, width=10)\n",
        "        \n",
        "        self.add_button = tk.Button(self.master, text=\"Add Item\", command=self.add_item)\n",
        "        self.delete_button = tk.Button(self.master, text=\"Delete Item\", command=self.delete_item)\n",
        "        self.run_button = tk.Button(self.master, text=\"Run\", command=self.run_algorithm)\n",
        "        \n",
        "        self.result_label = tk.Label(self.master, text=\"Result:\")\n",
        "        self.result_text = tk.Text(self.master, height=10, width=40)\n",
        "        \n",
        "        # arrange UI elements using grid layout\n",
        "        self.max_weight_label.grid(row=0, column=0)\n",
        "        self.max_weight_entry.grid(row=0, column=1)\n",
        "        \n",
        "        self.item_name_label.grid(row=0, column=0)\n",
        "        self.item_name_entry.grid(row=0, column=1)\n",
        "        self.item_value_label.grid(row=0, column=2)\n",
        "        self.item_value_entry.grid(row=0, column=3)\n",
        "        self.item_weight_label.grid(row=0, column=4)\n",
        "        self.item_weight_entry.grid(row=0, column=5)\n",
        "        self.item_frame.grid(row=1, column=0, columnspan=2, padx=10, pady=5)\n",
        "        \n",
        "        self.add_button.grid(row=2, column=0)\n",
        "        self.delete_button.grid(row=2, column=1)\n",
        "        self.run_button.grid(row=3, column=1)\n",
        "        \n",
        "        self.result_label.grid(row=4, column=0)\n",
        "        self.result_text.grid(row=5, column=0, columnspan=2, padx=10, pady=5)\n",
        "        \n",
        "        # create data model objects\n",
        "        self.items = []\n",
        "        self.knapsack = None\n",
        "    \n",
        "    def add_item(self):\n",
        "        name = self.item_name_entry.get()\n",
        "        value = float(self.item_value_entry.get())\n",
        "        weight = float(self.item_weight_entry.get())\n",
        "        self.items.append(Item(name, value, weight))\n",
        "        self.item_name_entry.delete(0, tk.END)\n",
        "        self.item_value_entry.delete(0, tk.END)\n",
        "        self.item_weight_entry.delete(0, tk.END)\n",
        "        self.show_items()\n",
        "        \n",
        "    def delete_item(self):\n",
        "        if len(self.items) > 0:\n",
        "            self.items.pop()\n",
        "            self.show_items()\n",
        "        else:\n",
        "            messagebox.showerror(\"Error\", \"No item to delete\")\n",
        "    \n",
        "    def show_items(self):\n",
        "        items_str = \"\"\n",
        "        for item in self.items:\n",
        "            items_str += f\"{item}\\n\"\n",
        "        self.result_text.delete(1.0, tk.END)\n",
        "        self.result_text.insert(tk.END, items_str)\n",
        "        \n",
        "    def run_algorithm(self):\n",
        "        max_weight = float(self.max_weight_entry.get())\n",
        "        if float(max_weight) <= 0:\n",
        "            messagebox.showerror(\"Error\", \"Max weight must be greater than 0\")\n",
        "            return\n",
        "        if len(self.items) == 0:\n",
        "            messagebox.showerror(\"Error\", \"No items to pack\")\n",
        "            return\n",
        "        # Create instance of GBFS solver with items and max weight\n",
        "        solver = GBFS(self.items, max_weight)\n",
        "\n",
        "        # Solve and display solution\n",
        "        solution = solver.search()\n",
        "        self.result_label.config(text=str(solution))\n",
        "\n",
        "\n",
        "root = tk.Tk()\n",
        "app = KnapsackGUI(master=root)\n",
        "app.mainloop()"
      ]
    }
  ],
  "metadata": {
    "colab": {
      "provenance": []
    },
    "kernelspec": {
      "display_name": "Python 3",
      "name": "python3"
    },
    "language_info": {
      "name": "python"
    }
  },
  "nbformat": 4,
  "nbformat_minor": 0
}
